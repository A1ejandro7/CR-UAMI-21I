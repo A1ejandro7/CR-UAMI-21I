{
 "cells": [
  {
   "cell_type": "markdown",
   "metadata": {},
   "source": [
    "# Importamos las librerías a utilizar"
   ]
  },
  {
   "cell_type": "code",
   "execution_count": 2,
   "metadata": {},
   "outputs": [],
   "source": [
    "#Para crear y análizar redes\n",
    "import networkx as nx\n",
    "#Para dibujary guardas gráficas de redes y funciones\n",
    "import matplotlib.pyplot as plt"
   ]
  },
  {
   "cell_type": "markdown",
   "metadata": {},
   "source": [
    "# Creación de la red"
   ]
  },
  {
   "cell_type": "markdown",
   "metadata": {},
   "source": [
    "**ACTIVIDAD 1** Complete la siguiente lista de enlaces para representar la red de amistades de la Práctica 1.\n",
    "Python distingue entre mayúsculas y minúsculas. "
   ]
  },
  {
   "cell_type": "code",
   "execution_count": 3,
   "metadata": {},
   "outputs": [],
   "source": [
    "lista_enlaces = [\n",
    "    (\"Alicia\",\"Beto\"),\n",
    "    (\"Carlos\",\"Alicia\")\n",
    "                ]"
   ]
  },
  {
   "cell_type": "markdown",
   "metadata": {},
   "source": [
    "Creamos la red y la almacenamos en la variable G"
   ]
  },
  {
   "cell_type": "code",
   "execution_count": 4,
   "metadata": {},
   "outputs": [],
   "source": [
    "G = nx.Graph(lista_enlaces)"
   ]
  },
  {
   "cell_type": "markdown",
   "metadata": {},
   "source": [
    "# Informacion de la red\n",
    "El siguiente codigo calcula la cantidad de nodos, enlaces y el diámetro de la red. Almacena estos dato en las variables n, m y d, repectivamente. Posteriormente se imprime la información"
   ]
  },
  {
   "cell_type": "code",
   "execution_count": 5,
   "metadata": {},
   "outputs": [
    {
     "name": "stdout",
     "output_type": "stream",
     "text": [
      "Informacion de la red: \n",
      "- nodos = 3\n",
      "- enlaces = 2\n",
      "- diámetro = 2\n"
     ]
    }
   ],
   "source": [
    "# nodos\n",
    "n = len(nx.nodes(G))\n",
    "# enlaces\n",
    "m = len(nx.edges(G))\n",
    "# diametro\n",
    "d = nx.diameter(G)\n",
    "print(\"Informacion de la red: \\n- nodos = \" + str(n) +\n",
    "      \"\\n- enlaces = \" + str(m) +\n",
    "      \"\\n- diámetro = \" + str(d) )"
   ]
  },
  {
   "cell_type": "markdown",
   "metadata": {},
   "source": [
    "Los anteriores datos se pueden obtener usando la función info de networkx"
   ]
  },
  {
   "cell_type": "code",
   "execution_count": 6,
   "metadata": {},
   "outputs": [
    {
     "data": {
      "text/plain": [
       "'Name: \\nType: Graph\\nNumber of nodes: 3\\nNumber of edges: 2\\nAverage degree:   1.3333'"
      ]
     },
     "execution_count": 6,
     "metadata": {},
     "output_type": "execute_result"
    }
   ],
   "source": [
    "nx.info(G)"
   ]
  },
  {
   "cell_type": "markdown",
   "metadata": {},
   "source": [
    "## Dibujamos y guardamos la red"
   ]
  },
  {
   "cell_type": "markdown",
   "metadata": {},
   "source": [
    "Dibujamos la red con nodos rosas y mostrando las etiquetas de los nodos. Depués, guardamos la red en el archivo amigos.png"
   ]
  },
  {
   "cell_type": "code",
   "execution_count": 7,
   "metadata": {},
   "outputs": [
    {
     "data": {
      "image/png": "[encoded data removed]",
      "text/plain": [
       "<Figure size 432x288 with 1 Axes>"
      ]
     },
     "metadata": {},
     "output_type": "display_data"
    }
   ],
   "source": [
    "nx.draw(G,with_labels=True,node_color=\"pink\")\n",
    "plt.savefig(\"amigos.png\")"
   ]
  },
  {
   "cell_type": "markdown",
   "metadata": {},
   "source": [
    "**ACTIVIDAD 2** Dibuje la red con nodos azules y sin mostrar las etiquetas de nodos "
   ]
  },
  {
   "cell_type": "code",
   "execution_count": 8,
   "metadata": {},
   "outputs": [
    {
     "data": {
      "image/png": "[encoded data removed]",
      "text/plain": [
       "<Figure size 432x288 with 1 Axes>"
      ]
     },
     "metadata": {},
     "output_type": "display_data"
    }
   ],
   "source": [
    "nx.draw(G,with_labels = False, node_color = \"blue\")\n",
    "plt.savefig(\"amigos1.png\")"
   ]
  },
  {
   "cell_type": "markdown",
   "metadata": {},
   "source": [
    "**ACTIVIDAD 3** Dibuje la red con nodos verdes y mostrando las etiquetas de nodos "
   ]
  },
  {
   "cell_type": "code",
   "execution_count": 9,
   "metadata": {},
   "outputs": [
    {
     "data": {
      "image/png": "[encoded data removed]",
      "text/plain": [
       "<Figure size 432x288 with 1 Axes>"
      ]
     },
     "metadata": {},
     "output_type": "display_data"
    }
   ],
   "source": [
    "nx.draw(G,with_labels = True, node_color = \"green\")\n",
    "plt.savefig(\"amigos.png\")"
   ]
  },
  {
   "cell_type": "markdown",
   "metadata": {},
   "source": [
    "# Nodos y enlaces"
   ]
  },
  {
   "cell_type": "markdown",
   "metadata": {},
   "source": [
    "## Nodos"
   ]
  },
  {
   "cell_type": "markdown",
   "metadata": {},
   "source": [
    "Guardamos la lista de nodos en la variable nodos y la MOSTRAMOS"
   ]
  },
  {
   "cell_type": "code",
   "execution_count": 10,
   "metadata": {},
   "outputs": [],
   "source": [
    "lista_en_G1 = ([(\"Alicia\",\"Beto\"),(\"Carlos\",\"Alicia\"),(\"Alicia\",\"David\"),(\"Alicia\",\"Carmen\"),(\"Alicia\",\"Monica\"),(\"Beto\",\"Jorge\"),\n",
    "                (\"Jorge\",\"Enrique\"),(\"Enrique\",\"Rosa\"),(\"Rosa\",\"Jorge\"),(\"Enrique\",\"Irene\"),(\"Irene\",\"Jorge\"),(\"Irene\",\"Rosa\"),\n",
    "                (\"Carmen\",\"Monica\"),(\"David\",\"Carlos\"),(\"Carlos\",\"Monica\"),(\"Carmen\",\"Irene\")])\n",
    "G1 = nx.Graph(lista_en_G1)"
   ]
  },
  {
   "cell_type": "code",
   "execution_count": 11,
   "metadata": {},
   "outputs": [
    {
     "data": {
      "text/plain": [
       "NodeView(('Alicia', 'Beto', 'Carlos', 'David', 'Carmen', 'Monica', 'Jorge', 'Enrique', 'Rosa', 'Irene'))"
      ]
     },
     "execution_count": 11,
     "metadata": {},
     "output_type": "execute_result"
    }
   ],
   "source": [
    "nodos = nx.nodes(G1)\n",
    "nodos"
   ]
  },
  {
   "cell_type": "markdown",
   "metadata": {},
   "source": [
    "Guardamos el tamaño de la lista de enlaces en la variable n y la MOSTRAMOS"
   ]
  },
  {
   "cell_type": "code",
   "execution_count": 12,
   "metadata": {},
   "outputs": [
    {
     "data": {
      "text/plain": [
       "10"
      ]
     },
     "execution_count": 12,
     "metadata": {},
     "output_type": "execute_result"
    }
   ],
   "source": [
    "n = len(nodos)\n",
    "n"
   ]
  },
  {
   "cell_type": "markdown",
   "metadata": {},
   "source": [
    "## Enlaces"
   ]
  },
  {
   "cell_type": "markdown",
   "metadata": {},
   "source": [
    "**ACTIVIDAD 4** Guarde la lista de enlaces en una variable enlaces y muestrela "
   ]
  },
  {
   "cell_type": "code",
   "execution_count": 13,
   "metadata": {},
   "outputs": [
    {
     "data": {
      "text/plain": [
       "EdgeView([('Alicia', 'Beto'), ('Alicia', 'Carlos'), ('Alicia', 'David'), ('Alicia', 'Carmen'), ('Alicia', 'Monica'), ('Beto', 'Jorge'), ('Carlos', 'David'), ('Carlos', 'Monica'), ('Carmen', 'Monica'), ('Carmen', 'Irene'), ('Jorge', 'Enrique'), ('Jorge', 'Rosa'), ('Jorge', 'Irene'), ('Enrique', 'Rosa'), ('Enrique', 'Irene'), ('Rosa', 'Irene')])"
      ]
     },
     "execution_count": 13,
     "metadata": {},
     "output_type": "execute_result"
    }
   ],
   "source": [
    "enlaces = nx.edges(G1)\n",
    "enlaces"
   ]
  },
  {
   "cell_type": "markdown",
   "metadata": {},
   "source": [
    "**ACTIVIDAD 5** Guarde el tamaño de la lista de enlaces en una variable m y muestrela"
   ]
  },
  {
   "cell_type": "code",
   "execution_count": 14,
   "metadata": {},
   "outputs": [
    {
     "data": {
      "text/plain": [
       "16"
      ]
     },
     "execution_count": 14,
     "metadata": {},
     "output_type": "execute_result"
    }
   ],
   "source": [
    "m = len(enlaces)\n",
    "m"
   ]
  },
  {
   "cell_type": "markdown",
   "metadata": {},
   "source": [
    "# Distancias y caminos"
   ]
  },
  {
   "cell_type": "markdown",
   "metadata": {},
   "source": [
    "## Distancia y camino entre 2 personas\n",
    "La distancia entre 2 nodos es el la longitud del camino más corto\n",
    "### Beto y Carlos\n",
    "Calculamos uno de los caminos mas cortos entre Carlos e Irene y lo IMPRIMOS"
   ]
  },
  {
   "cell_type": "code",
   "execution_count": 15,
   "metadata": {},
   "outputs": [
    {
     "name": "stdout",
     "output_type": "stream",
     "text": [
      "El camino más corto entre Beto y Carlos ['Beto', 'Alicia', 'Carlos']\n"
     ]
    }
   ],
   "source": [
    "camino = nx.shortest_path(G1,\"Beto\",\"Carlos\")\n",
    "print(\"El camino más corto entre Beto y Carlos \" + str(camino))"
   ]
  },
  {
   "cell_type": "markdown",
   "metadata": {},
   "source": [
    "Calculamos la distancia entre Beto y Carlos y la IMPRIMOS"
   ]
  },
  {
   "cell_type": "code",
   "execution_count": 16,
   "metadata": {
    "scrolled": true
   },
   "outputs": [
    {
     "name": "stdout",
     "output_type": "stream",
     "text": [
      "La distancia entre Beto y Carlos es 2\n"
     ]
    }
   ],
   "source": [
    "distancia = nx.shortest_path_length(G1,\"Beto\",\"Carlos\")\n",
    "print(\"La distancia entre Beto y Carlos es \" + str(distancia))"
   ]
  },
  {
   "cell_type": "markdown",
   "metadata": {},
   "source": [
    "Calculamos TODOS los caminos mas cortos entre Carlos y Beto, los guardamos en la variable caminos"
   ]
  },
  {
   "cell_type": "code",
   "execution_count": 39,
   "metadata": {},
   "outputs": [],
   "source": [
    "caminos = nx.all_shortest_paths(G1,\"Carlos\",\"Beto\")"
   ]
  },
  {
   "cell_type": "markdown",
   "metadata": {},
   "source": [
    "Con ayuda de un ciclo for imprimos todos los caminos entre Carlos y Beto"
   ]
  },
  {
   "cell_type": "code",
   "execution_count": 40,
   "metadata": {},
   "outputs": [
    {
     "name": "stdout",
     "output_type": "stream",
     "text": [
      "El camino más corto entre Carlos y Beto ['Carlos', 'Alicia', 'Beto']\n"
     ]
    }
   ],
   "source": [
    "for camino in caminos: \n",
    "    print(\"El camino más corto entre Carlos y Beto \" + str(camino))"
   ]
  },
  {
   "cell_type": "markdown",
   "metadata": {},
   "source": [
    "## Funcion para mostrar los caminos (más cortos) y distancia"
   ]
  },
  {
   "cell_type": "markdown",
   "metadata": {},
   "source": [
    "**ACTIVIDAD 6** Cree una función que recibe como parametros los nodos: nodo1 y nodo2 e imprime los caminos mas cortos entre ellos. La funcion devuelve la distancia entre el nodo1 y el nodo2"
   ]
  },
  {
   "cell_type": "code",
   "execution_count": 41,
   "metadata": {},
   "outputs": [],
   "source": [
    "def red(G1,nodo1,nodo2):\n",
    "    camino = nx.shortest_path(G1,nodo1,nodo2)\n",
    "    print(f\"El camino más corto entre {nodo1} y {nodo2} es {camino}\")\n",
    "    distancia = nx.shortest_path_length(G1,nodo1,nodo2)\n",
    "    return distancia"
   ]
  },
  {
   "cell_type": "markdown",
   "metadata": {},
   "source": [
    "**ACTIVIDAD 7** Llame a la función creada para mostrar los caminos mas cortos y la distnacia entre Carlos e Irene y entre Carlos y Enrique"
   ]
  },
  {
   "cell_type": "code",
   "execution_count": 42,
   "metadata": {},
   "outputs": [
    {
     "name": "stdout",
     "output_type": "stream",
     "text": [
      "El camino más corto entre Carlos y Irene es ['Carlos', 'Alicia', 'Carmen', 'Irene']\n",
      "La distancia entre Carlos y Irene es 3\n",
      "El camino más corto entre Carlos y Enrique es ['Carlos', 'Alicia', 'Beto', 'Jorge', 'Enrique']\n",
      "La distancia entre Carlos y Enrique es 4\n"
     ]
    }
   ],
   "source": [
    "print(\"La distancia entre Carlos y Irene es\",str(red(G1,\"Carlos\",\"Irene\")))\n",
    "print(\"La distancia entre Carlos y Enrique es\",str(red(G1,\"Carlos\",\"Enrique\")))"
   ]
  },
  {
   "cell_type": "markdown",
   "metadata": {},
   "source": [
    "## Funcion para calcular la distancia promedio y diametro de una red"
   ]
  },
  {
   "cell_type": "markdown",
   "metadata": {},
   "source": [
    "**ACTIVIDAD 8** Cree una funcion recibe como parametros una red G, que imprima el diámetro y la distancia promedio de G. La funcion debe devolver la distancia promedio de G"
   ]
  },
  {
   "cell_type": "code",
   "execution_count": 44,
   "metadata": {},
   "outputs": [],
   "source": [
    "def red_dis(G1):\n",
    "    print(f\"El diametro de la red es: {nx.diameter(G1)}\")\n",
    "    print(f\"La distancia promedio de la red es: {nx.average_shortest_path_length(G1)}\")"
   ]
  },
  {
   "cell_type": "markdown",
   "metadata": {},
   "source": [
    "**ACTIVIDAD 9** Llame a la función de la actividad 8, para imprimir el diámetro y la distancia de la red creada"
   ]
  },
  {
   "cell_type": "code",
   "execution_count": 46,
   "metadata": {},
   "outputs": [
    {
     "name": "stdout",
     "output_type": "stream",
     "text": [
      "El diametro de la red es: 4\n",
      "La distancia promedio de la red es: 2.022222222222222\n"
     ]
    },
    {
     "data": {
      "image/png": "[encoded data removed]",
      "text/plain": [
       "<Figure size 432x288 with 1 Axes>"
      ]
     },
     "metadata": {},
     "output_type": "display_data"
    }
   ],
   "source": [
    "nx.draw(G1,with_labels = True, node_color = \"green\")\n",
    "plt.savefig(\"actividad9.png\")\n",
    "red_dis(G1)"
   ]
  },
  {
   "cell_type": "markdown",
   "metadata": {},
   "source": [
    "# Grado nodal\n",
    "Indica el número de enlaces de un nodo"
   ]
  },
  {
   "cell_type": "markdown",
   "metadata": {},
   "source": [
    "**ACTIVIDAD 10** Cree una función que reciba el parametro nodo e imprima el nombre del nodo y su grado nodal"
   ]
  },
  {
   "cell_type": "code",
   "execution_count": 47,
   "metadata": {},
   "outputs": [],
   "source": [
    "def red_deg(G1,nodo):\n",
    "    print(f\"El nodo {nodo}, tiene un grado nodal de: {nx.degree(G1,nodo)}\")"
   ]
  },
  {
   "cell_type": "markdown",
   "metadata": {},
   "source": [
    "**ACTIVIDAD 11** Itere todos los nodos de la red y para cada uno de ellos llame a la función de la actividad 10 para imprimir su grado nodal"
   ]
  },
  {
   "cell_type": "code",
   "execution_count": 51,
   "metadata": {},
   "outputs": [
    {
     "name": "stdout",
     "output_type": "stream",
     "text": [
      "El nodo Alicia, tiene un grado nodal de: 5\n",
      "El nodo Beto, tiene un grado nodal de: 2\n",
      "El nodo Carlos, tiene un grado nodal de: 3\n",
      "El nodo David, tiene un grado nodal de: 2\n",
      "El nodo Carmen, tiene un grado nodal de: 3\n",
      "El nodo Monica, tiene un grado nodal de: 3\n",
      "El nodo Jorge, tiene un grado nodal de: 4\n",
      "El nodo Enrique, tiene un grado nodal de: 3\n",
      "El nodo Rosa, tiene un grado nodal de: 3\n",
      "El nodo Irene, tiene un grado nodal de: 4\n"
     ]
    }
   ],
   "source": [
    "for i in nodos:\n",
    "    red_deg(G1,i)"
   ]
  },
  {
   "cell_type": "markdown",
   "metadata": {},
   "source": [
    "## Distribucion de grados"
   ]
  },
  {
   "cell_type": "markdown",
   "metadata": {},
   "source": [
    "Calculamos la distribución de grados"
   ]
  },
  {
   "cell_type": "code",
   "execution_count": 52,
   "metadata": {},
   "outputs": [
    {
     "name": "stdout",
     "output_type": "stream",
     "text": [
      "[0, 0, 2, 5, 2, 1]\n"
     ]
    }
   ],
   "source": [
    "dist_grados = nx.degree_histogram(G1)\n",
    "print(dist_grados)"
   ]
  },
  {
   "cell_type": "markdown",
   "metadata": {},
   "source": [
    "El resultado anterior nos indica que hay\n",
    "\n",
    "- 0 nodos de grado 0\n",
    "- 0 nodos de grado 1\n",
    "- 2 nodos de grado 2\n",
    "- 5 nodos de grado 3\n",
    "- 2 nodos de grado 2\n",
    "- 1 nodo de grado 1"
   ]
  },
  {
   "cell_type": "markdown",
   "metadata": {},
   "source": [
    "**ACTIVIDAD 12** Cree una función que se llame graficar_distr_grado, la función debe recibir como parámetro una red G. La función calcula la distribución de grados, la grafica y la almacena en una imágen dist_grado.png. Finalmente la función devuelve la lista que almacena la distribución de grado. \n",
    "\n",
    "Para realizar la grafica utilice la librería matplotlib. La grafica debe titularse \"Distribución de grados\", el eje x se debe etiquetar como \"grado\" y el eje y como \"número de nodos\""
   ]
  },
  {
   "cell_type": "code",
   "execution_count": 53,
   "metadata": {},
   "outputs": [
    {
     "data": {
      "image/png": "[encoded data removed]",
      "text/plain": [
       "<Figure size 432x288 with 1 Axes>"
      ]
     },
     "metadata": {
      "needs_background": "light"
     },
     "output_type": "display_data"
    },
    {
     "name": "stdout",
     "output_type": "stream",
     "text": [
      "[0, 0, 2, 5, 2, 1]\n"
     ]
    }
   ],
   "source": [
    "def graficar_distr_grado(G1):\n",
    "    dist_grados = nx.degree_histogram(G1)\n",
    "    plt.stem(dist_grados)\n",
    "    plt.xlabel(\"grado\")\n",
    "    plt.ylabel(\"numero de nodos\")\n",
    "    plt.title(\"Distribución de grados\")\n",
    "    plt.savefig(\"dist_grado.png\")\n",
    "    plt.show()\n",
    "    return dist_grados\n",
    "print(graficar_distr_grado(G1))"
   ]
  },
  {
   "cell_type": "markdown",
   "metadata": {},
   "source": [
    "## Grado promedio de la red"
   ]
  },
  {
   "cell_type": "markdown",
   "metadata": {},
   "source": [
    "**ACTIVIDAD 13** Cree una función que se llame grado_promedio de la red, la función debe recibir como parámetro una red G. La función calcula el grado promedio de la red, lo imprime y lo devuleve"
   ]
  },
  {
   "cell_type": "code",
   "execution_count": 72,
   "metadata": {},
   "outputs": [],
   "source": [
    "def grado_promedio(G1):\n",
    "    grad = 0\n",
    "    dist_grados = nx.degree_histogram(G1)\n",
    "    for i in range(6):\n",
    "        grad += dist_grados[i]*i\n",
    "    grado_promedio = grad / n\n",
    "    #print(grado_promedio)\n",
    "    return grado_promedio"
   ]
  },
  {
   "cell_type": "markdown",
   "metadata": {},
   "source": [
    "**ACTIVIDAD 14** Llame a la función anterior pasandole como parámetro la gráfica G"
   ]
  },
  {
   "cell_type": "code",
   "execution_count": 73,
   "metadata": {},
   "outputs": [
    {
     "name": "stdout",
     "output_type": "stream",
     "text": [
      "El grado promedio de la red es: 3.2\n"
     ]
    }
   ],
   "source": [
    "print(f\"El grado promedio de la red es: {grado_promedio(G1)}\")"
   ]
  },
  {
   "cell_type": "markdown",
   "metadata": {},
   "source": [
    "# Densidad de la red\n",
    "Proporcion de nodos que tiene con respecto a los que podría tener (es decir los que tiene la red completa)"
   ]
  },
  {
   "cell_type": "markdown",
   "metadata": {},
   "source": [
    "## Red completa"
   ]
  },
  {
   "cell_type": "markdown",
   "metadata": {},
   "source": [
    "Usando NetworkX creamos una red completa de 10 nodos (recuerde que la variable n se declaro más arriba guarda el numero 10) y la almacena en la variable Kn"
   ]
  },
  {
   "cell_type": "code",
   "execution_count": 74,
   "metadata": {},
   "outputs": [
    {
     "data": {
      "image/png": "[encoded data removed]",
      "text/plain": [
       "<Figure size 432x288 with 1 Axes>"
      ]
     },
     "metadata": {},
     "output_type": "display_data"
    }
   ],
   "source": [
    "kn = nx.complete_graph(n)\n",
    "nx.draw(kn,with_labels=True,node_color=\"pink\")\n",
    "plt.savefig(\"completa.png\")"
   ]
  },
  {
   "cell_type": "markdown",
   "metadata": {},
   "source": [
    " **ACTIVIDAD 15** Calcule la densidad de la red G de 10 nodos usando la red Kn que acaba de crear"
   ]
  },
  {
   "cell_type": "code",
   "execution_count": 102,
   "metadata": {},
   "outputs": [
    {
     "data": {
      "text/plain": [
       "1.0"
      ]
     },
     "execution_count": 102,
     "metadata": {},
     "output_type": "execute_result"
    }
   ],
   "source": [
    "densidad = nx.density(kn)\n",
    "densidad"
   ]
  },
  {
   "cell_type": "markdown",
   "metadata": {},
   "source": [
    "Calculamos la densidad usando NetworkX"
   ]
  },
  {
   "cell_type": "code",
   "execution_count": 75,
   "metadata": {},
   "outputs": [
    {
     "name": "stdout",
     "output_type": "stream",
     "text": [
      "La densidad de la red es 0.35555555555555557\n"
     ]
    }
   ],
   "source": [
    "densidad = nx.density(G1)\n",
    "print(\"La densidad de la red es \" + str(densidad))"
   ]
  },
  {
   "cell_type": "code",
   "execution_count": null,
   "metadata": {},
   "outputs": [],
   "source": []
  }
 ],
 "metadata": {
  "kernelspec": {
   "display_name": "Python 3",
   "language": "python",
   "name": "python3"
  },
  "language_info": {
   "codemirror_mode": {
    "name": "ipython",
    "version": 3
   },
   "file_extension": ".py",
   "mimetype": "text/x-python",
   "name": "python",
   "nbconvert_exporter": "python",
   "pygments_lexer": "ipython3",
   "version": "3.7.10"
  }
 },
 "nbformat": 4,
 "nbformat_minor": 4
}
